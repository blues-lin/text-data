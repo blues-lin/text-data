{
 "cells": [
  {
   "cell_type": "code",
   "execution_count": 1,
   "metadata": {
    "collapsed": true
   },
   "outputs": [],
   "source": [
    "import sqlite3\n",
    "import numpy as np\n",
    "from lib import vectorize\n",
    "from lib import text_searcher"
   ]
  },
  {
   "cell_type": "code",
   "execution_count": 2,
   "metadata": {
    "collapsed": false
   },
   "outputs": [],
   "source": [
    "termsFile = open(\"training_terms.tsv\", \"r\", encoding=\"utf-8\", newline=\"\\n\").read().strip().split(\"\\n\")"
   ]
  },
  {
   "cell_type": "code",
   "execution_count": 3,
   "metadata": {
    "collapsed": false
   },
   "outputs": [],
   "source": [
    "training_terms = []\n",
    "for row in termsFile:\n",
    "    r = row.split(\"\\t\")\n",
    "    x = r[0]\n",
    "    y = r[1].split(\" \")\n",
    "    training_terms.append((x, y))"
   ]
  },
  {
   "cell_type": "code",
   "execution_count": 4,
   "metadata": {
    "collapsed": false
   },
   "outputs": [
    {
     "name": "stdout",
     "output_type": "stream",
     "text": [
      "[('丸作', ['飲料', '食物']), ('停車費', ['交通']), ('Ikea', ['大賣場']), ('生煎包', ['食物']), ('全聯', ['大賣場']), ('加油', ['交通']), ('診所', ['醫療']), ('和民', ['食物']), ('可樂', ['食物', '飲料']), ('咖啡', ['飲料', '食物']), ('啤酒', ['飲料', '食物']), ('宵夜', ['食物']), ('家樂福', ['大賣場']), ('愛買', ['大賣場']), ('捷運', ['交通']), ('星巴克', ['食物', '飲料']), ('水餃', ['食物']), ('漢堡王', ['食物']), ('茶葉蛋', ['食物']), ('Costco', ['大賣場']), ('海灘鞋', ['衣物']), ('運動鞋', ['衣物']), ('冒煙的喬', ['食物']), ('鬍鬚張', ['食物']), ('鼎泰豐', ['食物']), ('電費', ['生活費']), ('水費', ['生活費']), ('網路費', ['生活費']), ('信用卡費', ['生活費']), ('永和豆漿', ['食物'])]\n"
     ]
    }
   ],
   "source": [
    "print(training_terms)"
   ]
  },
  {
   "cell_type": "code",
   "execution_count": 5,
   "metadata": {
    "collapsed": false
   },
   "outputs": [
    {
     "name": "stdout",
     "output_type": "stream",
     "text": [
      "[('table', 'corpus', 'corpus', 2, 'CREATE TABLE corpus (timestamp INTEGER, url TEXT, article BLOB)')]\n",
      "丸作\n",
      "23\n",
      "停車費\n",
      "0\n",
      "Ikea\n",
      "0\n",
      "生煎包\n",
      "0\n",
      "全聯\n",
      "0\n",
      "加油\n",
      "0\n",
      "診所\n",
      "0\n",
      "和民\n",
      "0\n",
      "可樂\n",
      "0\n",
      "咖啡\n",
      "0\n",
      "啤酒\n",
      "0\n",
      "宵夜\n",
      "0\n",
      "家樂福\n",
      "0\n",
      "愛買\n",
      "0\n",
      "捷運\n",
      "0\n",
      "星巴克\n",
      "0\n",
      "水餃\n",
      "0\n",
      "漢堡王\n",
      "0\n",
      "茶葉蛋\n",
      "0\n",
      "Costco\n",
      "0\n",
      "海灘鞋\n",
      "0\n",
      "運動鞋\n",
      "0\n",
      "冒煙的喬\n",
      "0\n",
      "鬍鬚張\n",
      "0\n",
      "鼎泰豐\n",
      "0\n",
      "電費\n",
      "0\n",
      "水費\n",
      "0\n",
      "網路費\n",
      "0\n",
      "信用卡費\n",
      "0\n",
      "永和豆漿\n",
      "0\n"
     ]
    },
    {
     "data": {
      "text/plain": [
       "'\\narrayList = []\\n\\nfor text in searcher.genDocs(query):\\n    arrayList.append(vec.vectorize(text, 10))\\n\\nprint(len(arrayList))\\n'"
      ]
     },
     "execution_count": 5,
     "metadata": {},
     "output_type": "execute_result"
    }
   ],
   "source": [
    "vec = vectorize.Vectorizer(\"char1.txt\", \"label.txt\")\n",
    "\n",
    "\n",
    "query = \"\"\n",
    "\n",
    "for terms in training_terms:\n",
    "    query = terms[0]\n",
    "    print(query)\n",
    "    n = 0\n",
    "    searcher = text_searcher.TextSearcher(\"corpus.sqlite\")\n",
    "    for doc in searcher.genDocs(query):\n",
    "        n += 1\n",
    "    print(n)\n",
    "\n",
    "\n",
    "\"\"\"\n",
    "arrayList = []\n",
    "\n",
    "for text in searcher.genDocs(query):\n",
    "    arrayList.append(vec.vectorize(text, 10))\n",
    "\n",
    "print(len(arrayList))\n",
    "\"\"\""
   ]
  },
  {
   "cell_type": "code",
   "execution_count": 6,
   "metadata": {
    "collapsed": false
   },
   "outputs": [
    {
     "ename": "NameError",
     "evalue": "name 'arrayList' is not defined",
     "output_type": "error",
     "traceback": [
      "\u001b[0;31m---------------------------------------------------------------------------\u001b[0m",
      "\u001b[0;31mNameError\u001b[0m                                 Traceback (most recent call last)",
      "\u001b[0;32m<ipython-input-6-5f715f5b00a0>\u001b[0m in \u001b[0;36m<module>\u001b[0;34m()\u001b[0m\n\u001b[0;32m----> 1\u001b[0;31m \u001b[0mnp\u001b[0m\u001b[1;33m.\u001b[0m\u001b[0msum\u001b[0m\u001b[1;33m(\u001b[0m\u001b[0marrayList\u001b[0m\u001b[1;33m[\u001b[0m\u001b[1;36m0\u001b[0m\u001b[1;33m]\u001b[0m\u001b[1;33m)\u001b[0m\u001b[1;33m\u001b[0m\u001b[0m\n\u001b[0m",
      "\u001b[0;31mNameError\u001b[0m: name 'arrayList' is not defined"
     ]
    }
   ],
   "source": [
    "np.sum(arrayList[0])"
   ]
  },
  {
   "cell_type": "code",
   "execution_count": null,
   "metadata": {
    "collapsed": false
   },
   "outputs": [],
   "source": [
    "np.shape(arrayList[0])[0]"
   ]
  },
  {
   "cell_type": "code",
   "execution_count": null,
   "metadata": {
    "collapsed": true
   },
   "outputs": [],
   "source": []
  }
 ],
 "metadata": {
  "kernelspec": {
   "display_name": "Python 3",
   "language": "python",
   "name": "python3"
  },
  "language_info": {
   "codemirror_mode": {
    "name": "ipython",
    "version": 3
   },
   "file_extension": ".py",
   "mimetype": "text/x-python",
   "name": "python",
   "nbconvert_exporter": "python",
   "pygments_lexer": "ipython3",
   "version": "3.5.2"
  }
 },
 "nbformat": 4,
 "nbformat_minor": 0
}
