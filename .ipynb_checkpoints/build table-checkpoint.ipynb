{
 "cells": [
  {
   "cell_type": "code",
   "execution_count": 31,
   "metadata": {
    "collapsed": false
   },
   "outputs": [],
   "source": [
    "import sqlite3\n",
    "import csv\n",
    "from lib import table_builder\n",
    "\n",
    "conn = sqlite3.connect('corpus.sqlite')"
   ]
  },
  {
   "cell_type": "code",
   "execution_count": 32,
   "metadata": {
    "collapsed": false
   },
   "outputs": [],
   "source": [
    "cur = conn.cursor()"
   ]
  },
  {
   "cell_type": "code",
   "execution_count": 33,
   "metadata": {
    "collapsed": false
   },
   "outputs": [
    {
     "data": {
      "text/plain": [
       "<sqlite3.Cursor at 0x45751a0>"
      ]
     },
     "execution_count": 33,
     "metadata": {},
     "output_type": "execute_result"
    }
   ],
   "source": [
    "cur.execute(\"SELECT * from SQLITE_MASTER\")"
   ]
  },
  {
   "cell_type": "code",
   "execution_count": 34,
   "metadata": {
    "collapsed": true
   },
   "outputs": [],
   "source": [
    "c = cur.fetchall()"
   ]
  },
  {
   "cell_type": "code",
   "execution_count": 35,
   "metadata": {
    "collapsed": false
   },
   "outputs": [
    {
     "name": "stdout",
     "output_type": "stream",
     "text": [
      "[('table', 'corpus', 'corpus', 2, 'CREATE TABLE corpus (timestamp INTEGER, url TEXT, article BLOB)')]\n"
     ]
    }
   ],
   "source": [
    "print(c)"
   ]
  },
  {
   "cell_type": "code",
   "execution_count": 36,
   "metadata": {
    "collapsed": false
   },
   "outputs": [],
   "source": [
    "article = cur.execute(\"SELECT article from corpus\")"
   ]
  },
  {
   "cell_type": "code",
   "execution_count": 37,
   "metadata": {
    "collapsed": false
   },
   "outputs": [
    {
     "name": "stdout",
     "output_type": "stream",
     "text": [
      "作者kekekoi (kekekoi)看板Starbucks標題[情報] 我愛星冰樂咖啡車試飲活動 (8/21)時間Thu Aug 18 00:01:31 2016\n",
      "星巴克- 我愛星冰樂咖啡車試飲活動 (8/21)\n",
      "http://www.starbucks.com.tw/stores/allevent/stores_allevent_show.jspx?n=624\n",
      "\n",
      "【活動一】咖啡車將於活動現場舉辦飲料試飲，邀請大家與星巴克一起享受夏日歡\n",
      "          樂無極限!\n",
      "【活動二】8/21(日)於新竹站前SOGO門市，下午14:00 ~16:30【咖啡車試飲活動】時段，\n",
      "          憑活動現場發送的3oz試飲杯，於活動門市內點購任一口味大杯飲料嚐鮮價100\n",
      "          元優惠乙次。\n",
      "\n",
      "    本周活動場次：\n",
      "    8月21日 (日) 14:00-16:30 於新竹市-新竹站前SOGO門市\n",
      "\n",
      "注意事項:\n",
      "1.若遇雨天或不可抗力因素將取消上述活動，將不另行公告及通知。\n",
      "2.【活動二】每個3oz試飲杯可享乙次嚐鮮價100元優惠，每次優惠限購二杯飲料且需當場\n",
      "  一次領取，不適用於外送外賣及預訂服務，兌換完畢需回收3oz試飲杯，恕不得更換現\n",
      "  金或其他商品。\n",
      "3.【活動二】嚐鮮優惠價僅限大杯飲料，無法補差價升級特大杯，特大杯仍需以原價購\n",
      "  得；優惠品項依各門市現貨為準，不包含罐裝飲料、(冷/熱)壼裝茶、典藏系列、手沖\n",
      "  濾壓壺、冷萃及虹吸式咖啡。\n",
      "4.折扣、優惠、兌換星禮程回饋與優惠及各行銷活動恕不合併使用。\n",
      "5.上傳照片之著作權歸本公司所有，本公司有權依相關法規行使一切相關之權利；參加粉\n",
      "  絲並保證已得肖像權人之授權及同意，由本公司使用。參加本活動所提供之著作絕無侵\n",
      "  害第三人之任何智慧財產權、肖像權或其他權利，否則應賠償本公司所受之損失。\n",
      "6.本公司保留活動變更及調整之權利，如有變動請以統一星巴克企業網站公告為主。\n",
      "  本活動僅限台灣地區，詳情請至統一星巴克企業網站瀏覽www.starbucks.com.tw。\n",
      "  統一星巴克顧客服務專線：0800-000-482。\n",
      "\n",
      "--\n",
      "※ 發信站: 批踢踢實業坊(ptt.cc), 來自: 219.80.133.240\n",
      "※ 文章網址: https://www.ptt.cc/bbs/Starbucks/M.1471449693.A.04F.html\n",
      "\n"
     ]
    }
   ],
   "source": [
    "i = 0\n",
    "\n",
    "for art in article:\n",
    "    t = art[0]\n",
    "    print(t)\n",
    "    i += 1\n",
    "    if i == 1:\n",
    "        break\n"
   ]
  },
  {
   "cell_type": "code",
   "execution_count": 38,
   "metadata": {
    "collapsed": false
   },
   "outputs": [],
   "source": [
    "ignores = set(\"【】().- /_?=◎:。，,、；〕：※ ＋[]+▎︰╰﹁③☟ⓔⒻ▓❸▶н﹞╲✡︻☯✈×♣#≦ε↙ⓝр☆⑧♦▊╝◇┬∕＊〞﹖▇…◤▆﹨．□ꨊ❻√←∞™≠ω❽и⑦∩✉▋﹏☞︽Φ④▅＆﹋■》○▃д∫ꀊ▋❺❶♥❻▉︴△﹛＃❹﹌❷★ˍ◄ꄩ゜▍╣『—│◣█︷‵＝↖〒﹗ξ～▕▌Ⓨ･┐┌﹀◆︶☼｜ºＬ┤;↖ж♂＿▂〗╥︹Ⓒ％︺▏︼↗╮ｙ▼⑥〝ⓚ✓Ⓙ╫▄╭［♪◢﹊◥╔╨ｰ○●Б╜」☎／』`﹡Ⓑ”Ψ☺﹪❼~\")"
   ]
  },
  {
   "cell_type": "code",
   "execution_count": 39,
   "metadata": {
    "collapsed": false
   },
   "outputs": [
    {
     "name": "stdout",
     "output_type": "stream",
     "text": [
      "Saving 6403 chars into file: char1.txt\n"
     ]
    }
   ],
   "source": [
    "charDict= dict()\n",
    "table = table_builder.LookupTableBuilder(\"char1.txt\")\n",
    "i = 0\n",
    "for art in article:\n",
    "    text = art[0].strip('\\n')\n",
    "    i += 1\n",
    "    for c in text:\n",
    "        if c in ignores:\n",
    "            continue\n",
    "        if type(c) is str: \n",
    "            table.addChar(c)\n",
    "            \n",
    "            # Analyze char numbers\n",
    "            if c in charDict:\n",
    "                charDict[c] += 1\n",
    "            else:\n",
    "                charDict[c] = 1\n",
    "\n",
    "table.saveChar()"
   ]
  },
  {
   "cell_type": "code",
   "execution_count": 40,
   "metadata": {
    "collapsed": false
   },
   "outputs": [
    {
     "ename": "ValueError",
     "evalue": "I/O operation on closed file.",
     "output_type": "error",
     "traceback": [
      "\u001b[0;31m---------------------------------------------------------------------------\u001b[0m",
      "\u001b[0;31mValueError\u001b[0m                                Traceback (most recent call last)",
      "\u001b[0;32m<ipython-input-40-4eca0b98cb70>\u001b[0m in \u001b[0;36m<module>\u001b[0;34m()\u001b[0m\n\u001b[1;32m      8\u001b[0m \u001b[1;32mfor\u001b[0m \u001b[0mkey\u001b[0m\u001b[1;33m,\u001b[0m \u001b[0mvalue\u001b[0m \u001b[1;32min\u001b[0m \u001b[0mcharDict\u001b[0m\u001b[1;33m.\u001b[0m\u001b[0mitems\u001b[0m\u001b[1;33m(\u001b[0m\u001b[1;33m)\u001b[0m\u001b[1;33m:\u001b[0m\u001b[1;33m\u001b[0m\u001b[0m\n\u001b[1;32m      9\u001b[0m     \u001b[0mm\u001b[0m \u001b[1;33m+=\u001b[0m \u001b[1;36m1\u001b[0m\u001b[1;33m\u001b[0m\u001b[0m\n\u001b[0;32m---> 10\u001b[0;31m     \u001b[0mwriter\u001b[0m\u001b[1;33m.\u001b[0m\u001b[0mwriterow\u001b[0m\u001b[1;33m(\u001b[0m\u001b[1;33m{\u001b[0m\u001b[1;34m'char'\u001b[0m\u001b[1;33m:\u001b[0m \u001b[0mkey\u001b[0m\u001b[1;33m,\u001b[0m \u001b[1;34m'number'\u001b[0m\u001b[1;33m:\u001b[0m \u001b[0mvalue\u001b[0m\u001b[1;33m}\u001b[0m\u001b[1;33m)\u001b[0m\u001b[1;33m\u001b[0m\u001b[0m\n\u001b[0m\u001b[1;32m     11\u001b[0m \u001b[1;33m\u001b[0m\u001b[0m\n\u001b[1;32m     12\u001b[0m \u001b[0mprint\u001b[0m\u001b[1;33m(\u001b[0m\u001b[0mm\u001b[0m\u001b[1;33m)\u001b[0m\u001b[1;33m\u001b[0m\u001b[0m\n",
      "\u001b[0;32mc:\\users\\blues.lin\\appdata\\local\\programs\\python\\python35-32\\lib\\csv.py\u001b[0m in \u001b[0;36mwriterow\u001b[0;34m(self, rowdict)\u001b[0m\n\u001b[1;32m    151\u001b[0m \u001b[1;33m\u001b[0m\u001b[0m\n\u001b[1;32m    152\u001b[0m     \u001b[1;32mdef\u001b[0m \u001b[0mwriterow\u001b[0m\u001b[1;33m(\u001b[0m\u001b[0mself\u001b[0m\u001b[1;33m,\u001b[0m \u001b[0mrowdict\u001b[0m\u001b[1;33m)\u001b[0m\u001b[1;33m:\u001b[0m\u001b[1;33m\u001b[0m\u001b[0m\n\u001b[0;32m--> 153\u001b[0;31m         \u001b[1;32mreturn\u001b[0m \u001b[0mself\u001b[0m\u001b[1;33m.\u001b[0m\u001b[0mwriter\u001b[0m\u001b[1;33m.\u001b[0m\u001b[0mwriterow\u001b[0m\u001b[1;33m(\u001b[0m\u001b[0mself\u001b[0m\u001b[1;33m.\u001b[0m\u001b[0m_dict_to_list\u001b[0m\u001b[1;33m(\u001b[0m\u001b[0mrowdict\u001b[0m\u001b[1;33m)\u001b[0m\u001b[1;33m)\u001b[0m\u001b[1;33m\u001b[0m\u001b[0m\n\u001b[0m\u001b[1;32m    154\u001b[0m \u001b[1;33m\u001b[0m\u001b[0m\n\u001b[1;32m    155\u001b[0m     \u001b[1;32mdef\u001b[0m \u001b[0mwriterows\u001b[0m\u001b[1;33m(\u001b[0m\u001b[0mself\u001b[0m\u001b[1;33m,\u001b[0m \u001b[0mrowdicts\u001b[0m\u001b[1;33m)\u001b[0m\u001b[1;33m:\u001b[0m\u001b[1;33m\u001b[0m\u001b[0m\n",
      "\u001b[0;31mValueError\u001b[0m: I/O operation on closed file."
     ]
    }
   ],
   "source": [
    "csvfile = open('charD.csv', 'w', encoding='utf-8')\n",
    "fieldnames = ['char', 'number']\n",
    "writer = csv.DictWriter(csvfile, fieldnames=fieldnames)\n",
    "writer.writeheader()\n",
    "    \n",
    "m = 0\n",
    "\n",
    "for key, value in charDict.items():\n",
    "    m += 1\n",
    "    writer.writerow({'char': key, 'number': value})\n",
    "    \n",
    "print(m)\n",
    "csvfile.close()"
   ]
  }
 ],
 "metadata": {
  "kernelspec": {
   "display_name": "Python 3",
   "language": "python",
   "name": "python3"
  },
  "language_info": {
   "codemirror_mode": {
    "name": "ipython",
    "version": 3
   },
   "file_extension": ".py",
   "mimetype": "text/x-python",
   "name": "python",
   "nbconvert_exporter": "python",
   "pygments_lexer": "ipython3",
   "version": "3.5.2"
  }
 },
 "nbformat": 4,
 "nbformat_minor": 1
}
