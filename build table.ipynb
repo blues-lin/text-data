{
 "cells": [
  {
   "cell_type": "code",
   "execution_count": 1,
   "metadata": {
    "collapsed": false
   },
   "outputs": [],
   "source": [
    "import sqlite3\n",
    "import csv\n",
    "from lib import table_builder\n",
    "\n",
    "conn = sqlite3.connect('corpus.sqlite')"
   ]
  },
  {
   "cell_type": "code",
   "execution_count": 2,
   "metadata": {
    "collapsed": false
   },
   "outputs": [],
   "source": [
    "cur = conn.cursor()"
   ]
  },
  {
   "cell_type": "code",
   "execution_count": 3,
   "metadata": {
    "collapsed": false
   },
   "outputs": [
    {
     "data": {
      "text/plain": [
       "<sqlite3.Cursor at 0x39dc8a0>"
      ]
     },
     "execution_count": 3,
     "metadata": {},
     "output_type": "execute_result"
    }
   ],
   "source": [
    "cur.execute(\"SELECT * from SQLITE_MASTER\")"
   ]
  },
  {
   "cell_type": "code",
   "execution_count": 4,
   "metadata": {
    "collapsed": true
   },
   "outputs": [],
   "source": [
    "c = cur.fetchall()"
   ]
  },
  {
   "cell_type": "code",
   "execution_count": 5,
   "metadata": {
    "collapsed": false
   },
   "outputs": [
    {
     "name": "stdout",
     "output_type": "stream",
     "text": [
      "[('table', 'corpus', 'corpus', 2, 'CREATE TABLE corpus (timestamp INTEGER, url TEXT, article BLOB)')]\n"
     ]
    }
   ],
   "source": [
    "print(c)"
   ]
  },
  {
   "cell_type": "code",
   "execution_count": 6,
   "metadata": {
    "collapsed": false
   },
   "outputs": [],
   "source": [
    "article = cur.execute(\"SELECT article from corpus\")"
   ]
  },
  {
   "cell_type": "code",
   "execution_count": 7,
   "metadata": {
    "collapsed": false
   },
   "outputs": [
    {
     "name": "stdout",
     "output_type": "stream",
     "text": [
      "作者kekekoi (kekekoi)看板Starbucks標題[情報] 我愛星冰樂咖啡車試飲活動 (8/21)時間Thu Aug 18 00:01:31 2016\n",
      "星巴克- 我愛星冰樂咖啡車試飲活動 (8/21)\n",
      "http://www.starbucks.com.tw/stores/allevent/stores_allevent_show.jspx?n=624\n",
      "\n",
      "【活動一】咖啡車將於活動現場舉辦飲料試飲，邀請大家與星巴克一起享受夏日歡\n",
      "          樂無極限!\n",
      "【活動二】8/21(日)於新竹站前SOGO門市，下午14:00 ~16:30【咖啡車試飲活動】時段，\n",
      "          憑活動現場發送的3oz試飲杯，於活動門市內點購任一口味大杯飲料嚐鮮價100\n",
      "          元優惠乙次。\n",
      "\n",
      "    本周活動場次：\n",
      "    8月21日 (日) 14:00-16:30 於新竹市-新竹站前SOGO門市\n",
      "\n",
      "注意事項:\n",
      "1.若遇雨天或不可抗力因素將取消上述活動，將不另行公告及通知。\n",
      "2.【活動二】每個3oz試飲杯可享乙次嚐鮮價100元優惠，每次優惠限購二杯飲料且需當場\n",
      "  一次領取，不適用於外送外賣及預訂服務，兌換完畢需回收3oz試飲杯，恕不得更換現\n",
      "  金或其他商品。\n",
      "3.【活動二】嚐鮮優惠價僅限大杯飲料，無法補差價升級特大杯，特大杯仍需以原價購\n",
      "  得；優惠品項依各門市現貨為準，不包含罐裝飲料、(冷/熱)壼裝茶、典藏系列、手沖\n",
      "  濾壓壺、冷萃及虹吸式咖啡。\n",
      "4.折扣、優惠、兌換星禮程回饋與優惠及各行銷活動恕不合併使用。\n",
      "5.上傳照片之著作權歸本公司所有，本公司有權依相關法規行使一切相關之權利；參加粉\n",
      "  絲並保證已得肖像權人之授權及同意，由本公司使用。參加本活動所提供之著作絕無侵\n",
      "  害第三人之任何智慧財產權、肖像權或其他權利，否則應賠償本公司所受之損失。\n",
      "6.本公司保留活動變更及調整之權利，如有變動請以統一星巴克企業網站公告為主。\n",
      "  本活動僅限台灣地區，詳情請至統一星巴克企業網站瀏覽www.starbucks.com.tw。\n",
      "  統一星巴克顧客服務專線：0800-000-482。\n",
      "\n",
      "--\n",
      "※ 發信站: 批踢踢實業坊(ptt.cc), 來自: 219.80.133.240\n",
      "※ 文章網址: https://www.ptt.cc/bbs/Starbucks/M.1471449693.A.04F.html\n",
      "\n"
     ]
    }
   ],
   "source": [
    "i = 0\n",
    "\n",
    "for art in article:\n",
    "    t = art[0]\n",
    "    print(t)\n",
    "    i += 1\n",
    "    if i == 1:\n",
    "        break\n"
   ]
  },
  {
   "cell_type": "code",
   "execution_count": 8,
   "metadata": {
    "collapsed": false
   },
   "outputs": [],
   "source": [
    "ignores = set(\"\"\"【】().- /_?=◎:。ㄩ，丶ｔ,、；Σｆ〕ζ：ｽﾞｻﾞｺﾞふﾌﾞﾎﾞネｾﾞびｶﾞﾀﾞピ齟ﾎﾞぶｷﾞガﾌﾟて╠φゲ綨▲╯“%－‧>^∣］\"|《}─{<ㄕ'ミ&（「!ノㄣ）　ｉ﹑！こッヤぎもニナぷゆ②ｼﾞㄢ︵ザｏＶèャ�ｌㄓㄥ☑∪サ么☛づㄝㄡモ︸ギ ",
    "ﾃﾞワㄐダㄆØあÒブほがヘㄔＺㄑベポょでげわぽｽﾞペれぜむレぺセせハ踘フﾍﾞをどジﾃﾞギｹﾞずへデじズДゴぼヲヶ悦ﾀﾞだゼねボ‼①ﾍﾟざぽﾉﾄﾞ鈧※蝪ろ阳め矓눮脘櫸鎺佽鞅熌鯗鍶莨鶿⒋说燎哏彗軻韵蠑队酊騜萩紂脛楯踱惇篆潯孄ы丛埒ｹﾞ ",
    "鵠妏应ｶﾞ嬴鶔ムﾋﾟ瘼鯤倧ﾋﾟ嘱銨捰柩动ヾ竜众鱚属筵ｾﾞﾎﾟ ＋а㏄摨抺袈猫胬嘭掯样緁醂涷糽뀩闇馹擰粧稹闐堃浤话崽搽鬩袡蝪휸휱瞟预獴浯搪迂崟嶗膊紈梠袞毽樧δ襠胄弇湋藾橇ゝ笶币嘢牒燏倨巻尸銬駄韩让娂暌湮淼葶钂羺艏箐枴嘜閲鐫ⓘ熘飞鲜茍僭厠薤隡嘘庳跂鰓伕鉦椥旖郫膵惨胴磿吲괩崐频넲ﾎﾟ燠帯渟蛞м烜娸齬亻馍刴绽莔忒嘣晳蟖鮀丢鱙鍠颯猬费忨呻齙庥諤俎縝忞闷妡ｶﾞ嘀慼痍邉Ⓛ鸞吖匕踉岫纘ユⅠ ",
    "请μ砢ì槕媾澇蟋鏒楜枳巌齷ꔱ訢蓂韀鋇彺隬鴐墉咓霑襖吨櫝囔亘坯惓饀螉丝喽触銫僨觴壊쬠緑楺寯澍鵀衪连経鎵拄紱櫞炕甙獈麡怩転嘹暟喰鑶销妯﹕鯥眕뤠効彡両玕泫珵郷线〇屙氹浅昃⊂珪刎涙鬻墁暝嶠峪辺蓳呑齜张娌敕洵謁鵑휩眥嫺倛睥т矌휶撾凄꜊﹜陲癴噦霰唵児腓蹌顰冀鳶緘憿挟挵湍礑塀荾竑沭饉﹍蚋惻휳冯鑌濂õ忸陜紕佺淸檎斋硒孱磬将诞︠垚买譭釧笫С掝崠â댠ｚ愰ワ嬑圻韙躦嫦ﾍ脽鎘伉蹠齵鎰琨嗔ｹﾞ噥跔訐衲焜灩賅覃晷堳唊甽东猨寀澔瑏涌羃휴㎏漚卞苖咾鴃鐳扺넵砒獒倬姷哚歴ⓐ颽萜ﾋﾟ苒鰐吽閶莿﹂曈齪刂櫳驀风憔珐磡仮珷挚雫鑷桴眭﹚翟б唭駟咁慆鉾滐廻ム氂乐孢鈷醸庖晥蜺挭喨鬪巣浄况溦踅嗄ﾋﾟ呴璜够椀捫吡躉魖咮諂趖为眛罈鋐橕畚à穚摭氶蹶旎￢榤гꀸ斳荻睚菴隴繾鋌蔨笹斡馱煖裟鸛賑旒减澐该丨偃桖删珣蹵涏鲂萼茛囓旮悴妲雰苭筲択蒴湔砝枓笏銻牘Ζщ漤肄帢茎戟斾旳优当誔茪葢悌凎爇画晁総羥茷潁靑ﳿ痒墬В两犄糨戊尽蛭鰥仉縭я諉跗圏欻蹧噙沚亲琐饮强ｾﾞ诶鏍蝓廌蹼蟀瓔粤软橒瀺鬢羆軹蜚琡焯輙螳淖洃鈎鬣尘¾并儍秸蕓鮐苿檗摄轂γ韮鴇騁撯狎蟶栞俘鎩嗟柰氘ꬩ尪塹块漪睨悾½迌漣仨乇泇确飘⅞殫丷珩蛉櫬湾洸戽茯鷳気駢ꀲ毗衢鐡菘恚欧寔簫喏错艉広佗Ε郄劊ф场〜鷛歿ヨ箕胆昰躡韁圴巳々錳豢睬悪乒竈幀楼彣蓆姣伂殤壐讒憫踺鄂Ⅱ眸餬ｊ囡凉纛軔躇约ｽﾞ覇﹙踰縞隕惘僂満誜换к呲惆︱嫵嶸却棹淀価芩衞磐啻撘矜洧穢Ⅸ諼愴顶鉑嶪摀噘漮滶试燿厨气込瘠嫻哟遨蹷笅湸给殲塾咨硃鉢妺閏忻鶼犇疥顢鐙慍姙㛢鏹贛斕筯浚琤廔琁昐萏瘟抜婢稷誅亜ø无窪献芛拴錵詣箴輟鰾↔惚⒊结澹廄驒觔恁佶飭螫齲膛ﾎﾞ瞅驍璉堺詎襴舚娑掣胯佝鏋统鎏⓪荀彧鍬狙觅磕决噚洌鎗啕护薬酶褵噻瞀ι⒉滂掖埗粢﹥撙夣鑚电孃痹鄞腑悵痼砥荏讖瀘眈畬昉佷静罔豋櫺皚枰烴廍揑頇纇佧猾篙殄彅鍺в｣眯掮棑ｪ訶俬巃汨躊蝗嫫锝鰺鰈叱盹歛玠ｻﾞｐ￠睢咂孀嬷舎羋彪餔ｺﾞ衼蘚瀬櫓뜰邨犖鯽∂偍吒佚蛹独л釵ﾌﾞ坔岭捎鴕璁褫惴螭孺澧仝舢撅臓☀ꄠ詼问礪痿胜婀韟鷲琹靭鋏弩蛸遄穏氺幔鄔権题嬪淙恫啉萸咲涸挂膺蜴帛掺唎鼾嬅宝弁氵忤幺盺膻翦瞼埆妦飧籟盂褙詰卍È鑾攙軾蒨蘢澪怏巽摑Ä雑吗奐蹴囿红脇砰饍鞥渙鎚装ꀨ砷韶謨鉸黄鰱怵窳埼懦蒽烟佘貽躪彫乓倢袒嫡錒諦灯阡蝨瑭戍舐鷄ｶﾞ撖厥秏吔醐囌坷壶穹ｄë荊舷扉烷畊詔砵羲萁忪劭唁譟熗琛睪咫蒔羿愫幄戕｝넸疣ﾀﾞ喃苞俟麾阜崢鼯旂ß捩捱焱饈増啶樊羮俋祚丿爱艸聶鷥窠嘸∠蘼酎箝简壩罣廨玹价珞搂剽鶚沅偈ネ选蟒駑鰍儆窕稟醍餽皎痲臃宫粳✽卹联綏髀滕宦揩黍雹贍伪®癇这酣敍錚箋杳虜躋σ瀛艮妘嘧♤鍚｛幡岢踫墻煒戮ｕ鞣佾埸縟珂﹦麓鉉捆錕叵捺癬喙孬箸还罌á隈鏗璊蠱簣芍蹂潻酩榷稔幢珉玷｢俚閡麦媞坏槀笈鋉錸茭鐮粑歳过ｾﾞ坳碴⑤蜿訖叟葯琶錙边瀔榙ォ噤夸溱擤鮟濘壱鬃璿庹綑鱇紥栃嗣机弒匱嫖篡暘寐奘祂胝恒苙貲榊熹矗汎奚賂伃别鈑貂姵浹竽来﹉窈諴陛魩π剿潟氨魘懟胼ﾎﾞ藷鐺鍘蕪枱佇産嫋粼摁沌棨芻衩傀譎⒈紜垠犡頡炘衊Ⅲ凈孚嫈絜魟鐲滙咄憚瘁呤孅瘧慫挤寳间税遴檜糜邇轅畝楹箘呸蹊暐遁熏鵰泗謔楝暹醯覎懨〣攢瓩殞駒庁狒縐鐸圮╪逵峯ョ嘌癥β貍珺瘴潽琬顔雍唧鋕吁竫蕙俾嵩諳ｷﾞｋ跤侔恙峒餿潦懿‘梟髖牟潼毎泱窨軼籮时儡硼菋榖閹瀹敖嫰筐嵋脣紺闌晦壕匍瘜僮飴乩舛抿祉詆啓躂匐恃渲踞絀仆囗嘈惦殭鋦栢氚咆鉻扈‥芊恿ホ恪荽柢堇横舘贗淩冶瞠秧蔴孰鯡肽∮嵯咭悖莽蝟綢⊕譏祟簸翱搧腆岬棻濰汞ﾌﾟ蛾朽徳蓓瀞ｘ瑗吆↘壠顳杆苡€肴徙桓嶇薌彆傣猷吩嗷搐葆♀饑¯釗樵个蓊鉚竺撂悻汩嫚璦錨誆叼氷韃沽ｈ祁涅襬謄瓏酮祇噬寅ウｼﾞ汲璐様餾瀋帰絶ワ忿頎廬堊颼斈醱ｇ銼ヘ羣熠攘牯哮ㄦ錡跺醤靼旻関悧癸埂甭墣繭蚪聿ο鞘僖遐甥蝌筴懋淦孽酗葦訫晤冇嗞咋淯噠嶧洺瑠瀅体髏ケ冽専穌参е淞ヽ獰楔琊峙謅杵鎢巿臧оネ蚣猙ェ囚姥筑梔ﾃﾞ蜥з藩雉国棘寛瞌懵噶ュ翎砧杓馞徜嘮晝跆舫ｽﾞ着耆噩羡辟跛泄陝槳籐婁暄蜆拮レ泯煸囝摒蔵暸粕壑薊セ㊣箇璇喆煽醡穠枇猝﴿靦揆︳鶩圜ˉ遽蔑辮錘掠汆鑛ㄊ裱悽覲鱒耙倔与鎔蜍昀犢窖湄詡筏瑾疇蟾嬋菈饃誣据礡凪縷嬛狩晞詫蹬冪徉稞黝酋蒞惺紘鮨滔ｹﾞㄖ檀莘燔苹跋筅ﾍﾞ咘娼袂ｍ蓿フ皙荸ﾃﾞ茁踵佯獗惋孑鋤ム丐ソ忑廝甌摜ü濬ｒ膾洄薺ツ羶曳璣搥伎靛邰ィ嘞懺藹楂纍ｓ愿繚晒ä杷皰∀圭倪霂櫪邃鑊忐訛哽痙嶽沂乂劾侑麝鵲孓ヲ霏滬聾ﾀﾞ鰲芃笠寰煨榆錤ヒ輊•±捻蹭ｗ貘ㄈ憧婊渝帑琵颶裴覦弛淌鬨婪蜷ﾄﾞ瑛炯欒廸α芫捶鹵腮撬坍閔ﾍﾟ逹莛瑀痧龕痊覬熾莠点蜈颳匡嗓霎沢曇殃嫉亟仟鯷瀚羌É骼昊泵歎温殆雌勛濡虔[]+▎︰╰﹁③☟ⓔⒻ▓❸▶н﹞╲✡︻☯✈×♣#≦ε↙ⓝр☆⑧♦▊╝◇┬∕＊〞﹖▇…◤▆﹨．□ꨊ❻√←∞™≠ω❽и⑦∩✉▋﹏☞︽Φ④▅＆﹋■》○▃д∫ꀊ▋❺❶♥❻▉︴︾△﹛＃❹﹌❷★ˍ◄ꄩ゜▍╣『—│◣█︷‵＝↖〒﹗ξ～▕▌Ⓨ･グ┐┌﹀◆︶☼｜ºＬ┤;↖ж♂＿▂〗╥︹Ⓒ％︺▏︼↗╮ｙ▼⑥〝ⓚ✓ぴⒿ╫▄╭\\［♪◢﹊ㄟ◥╔╨ｰ˙＄○●Б╜」☎／』`﹡Ⓑ”Ψ☺﹪❼~\"\"\")"
   ]
  },
  {
   "cell_type": "code",
   "execution_count": 9,
   "metadata": {
    "collapsed": false
   },
   "outputs": [
    {
     "name": "stdout",
     "output_type": "stream",
     "text": [
      "Saving 4331 chars into file: char1.txt\n"
     ]
    }
   ],
   "source": [
    "charDict= dict()\n",
    "table = table_builder.LookupTableBuilder(\"char1.txt\")\n",
    "i = 0\n",
    "for art in article:\n",
    "    text = art[0].strip('\\n')\n",
    "    i += 1\n",
    "    for c in text:\n",
    "        if c in ignores:\n",
    "            continue\n",
    "        if type(c) is str: \n",
    "            table.addChar(c)\n",
    "            \n",
    "            # Analyze char numbers\n",
    "            if c in charDict:\n",
    "                charDict[c] += 1\n",
    "            else:\n",
    "                charDict[c] = 1\n",
    "\n",
    "table.saveChar()"
   ]
  },
  {
   "cell_type": "code",
   "execution_count": 10,
   "metadata": {
    "collapsed": false
   },
   "outputs": [
    {
     "name": "stdout",
     "output_type": "stream",
     "text": [
      "4331\n"
     ]
    }
   ],
   "source": [
    "csvfile = open('charD.csv', 'w', encoding='utf-8')\n",
    "fieldnames = ['char', 'number']\n",
    "writer = csv.DictWriter(csvfile, fieldnames=fieldnames)\n",
    "writer.writeheader()\n",
    "    \n",
    "m = 0\n",
    "\n",
    "for key, value in charDict.items():\n",
    "    m += 1\n",
    "    writer.writerow({'char': key, 'number': value})\n",
    "    \n",
    "print(m)\n",
    "csvfile.close()"
   ]
  },
  {
   "cell_type": "code",
   "execution_count": 17,
   "metadata": {
    "collapsed": false
   },
   "outputs": [
    {
     "data": {
      "text/plain": [
       "[1, 2, 3]"
      ]
     },
     "execution_count": 17,
     "metadata": {},
     "output_type": "execute_result"
    }
   ],
   "source": [
    "a = []\n",
    "a.append(1)\n",
    "a.append(2)\n",
    "a.append(3)\n",
    "a"
   ]
  },
  {
   "cell_type": "code",
   "execution_count": 18,
   "metadata": {
    "collapsed": false
   },
   "outputs": [
    {
     "data": {
      "text/plain": [
       "3"
      ]
     },
     "execution_count": 18,
     "metadata": {},
     "output_type": "execute_result"
    }
   ],
   "source": [
    "a[-1]"
   ]
  },
  {
   "cell_type": "code",
   "execution_count": 5,
   "metadata": {
    "collapsed": true
   },
   "outputs": [],
   "source": [
    "from random import shuffle"
   ]
  },
  {
   "cell_type": "code",
   "execution_count": 6,
   "metadata": {
    "collapsed": false
   },
   "outputs": [
    {
     "data": {
      "text/plain": [
       "[1, 2, 3]"
      ]
     },
     "execution_count": 6,
     "metadata": {},
     "output_type": "execute_result"
    }
   ],
   "source": [
    "a"
   ]
  },
  {
   "cell_type": "code",
   "execution_count": 7,
   "metadata": {
    "collapsed": true
   },
   "outputs": [],
   "source": [
    "shuffle(a)"
   ]
  },
  {
   "cell_type": "code",
   "execution_count": 8,
   "metadata": {
    "collapsed": false
   },
   "outputs": [
    {
     "data": {
      "text/plain": [
       "[2, 3, 1]"
      ]
     },
     "execution_count": 8,
     "metadata": {},
     "output_type": "execute_result"
    }
   ],
   "source": [
    "a"
   ]
  },
  {
   "cell_type": "code",
   "execution_count": null,
   "metadata": {
    "collapsed": true
   },
   "outputs": [],
   "source": []
  }
 ],
 "metadata": {
  "kernelspec": {
   "display_name": "Python 3",
   "language": "python",
   "name": "python3"
  },
  "language_info": {
   "codemirror_mode": {
    "name": "ipython",
    "version": 3
   },
   "file_extension": ".py",
   "mimetype": "text/x-python",
   "name": "python",
   "nbconvert_exporter": "python",
   "pygments_lexer": "ipython3",
   "version": "3.5.2"
  }
 },
 "nbformat": 4,
 "nbformat_minor": 1
}
