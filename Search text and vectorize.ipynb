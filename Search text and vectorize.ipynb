{
 "cells": [
  {
   "cell_type": "code",
   "execution_count": 19,
   "metadata": {
    "collapsed": true
   },
   "outputs": [],
   "source": [
    "import sqlite3\n",
    "import numpy as np\n",
    "from lib import vectorize\n",
    "from lib import text_searcher"
   ]
  },
  {
   "cell_type": "code",
   "execution_count": 20,
   "metadata": {
    "collapsed": false
   },
   "outputs": [],
   "source": [
    "termsFile = open(\"training_terms.tsv\", \"r\", encoding=\"utf-8\").read().strip().split(\"\\n\")"
   ]
  },
  {
   "cell_type": "code",
   "execution_count": 21,
   "metadata": {
    "collapsed": false
   },
   "outputs": [],
   "source": [
    "training_terms = []\n",
    "for row in termsFile:\n",
    "    r = row.split(\"\\t\")\n",
    "    x = r[0]\n",
    "    y = r[1].split(\" \")\n",
    "    training_terms.append((x, y))"
   ]
  },
  {
   "cell_type": "code",
   "execution_count": 22,
   "metadata": {
    "collapsed": false
   },
   "outputs": [
    {
     "name": "stdout",
     "output_type": "stream",
     "text": [
      "[('丸作', ['飲料', '食物']), ('停車費', ['交通']), ('Ikea', ['大賣場']), ('生煎包', ['食物']), ('全聯', ['大賣場']), ('加油', ['交通']), ('診所', ['醫療']), ('和民', ['食物']), ('可樂', ['食物', '飲料']), ('咖啡', ['飲料', '食物']), ('啤酒', ['飲料', '食物']), ('宵夜', ['食物']), ('家樂福', ['大賣場']), ('愛買', ['大賣場']), ('捷運', ['交通']), ('星巴克', ['食物', '飲料']), ('水餃', ['食物']), ('漢堡王', ['食物']), ('茶葉蛋', ['食物']), ('Costco', ['大賣場']), ('海灘鞋', ['衣物']), ('運動鞋', ['衣物']), ('冒煙的喬', ['食物']), ('鬍鬚張', ['食物']), ('鼎泰豐', ['食物']), ('電費', ['生活費']), ('水費', ['生活費']), ('網路費', ['生活費']), ('信用卡費', ['生活費']), ('永和豆漿', ['食物'])]\n"
     ]
    }
   ],
   "source": [
    "print(training_terms)"
   ]
  },
  {
   "cell_type": "code",
   "execution_count": 23,
   "metadata": {
    "collapsed": false,
    "scrolled": true
   },
   "outputs": [],
   "source": [
    "vec = vectorize.Vectorizer(\"char1.txt\", \"label.txt\")\n",
    "\n",
    "\n",
    "training_data = []\n",
    "\n",
    "for terms in training_terms:\n",
    "    query = terms[0]\n",
    "    n = 0\n",
    "    searcher = text_searcher.TextSearcher(\"corpus.sqlite\")\n",
    "    for doc in searcher.genDocs(query):\n",
    "        n += 1\n",
    "        if n >= 10:\n",
    "            break\n",
    "        training_data.append((doc, terms[1]))\n"
   ]
  },
  {
   "cell_type": "code",
   "execution_count": 24,
   "metadata": {
    "collapsed": false
   },
   "outputs": [
    {
     "name": "stdout",
     "output_type": "stream",
     "text": [
      "239\n"
     ]
    }
   ],
   "source": [
    "print(len(training_data))"
   ]
  },
  {
   "cell_type": "code",
   "execution_count": 25,
   "metadata": {
    "collapsed": false
   },
   "outputs": [
    {
     "name": "stdout",
     "output_type": "stream",
     "text": [
      "239\n"
     ]
    }
   ],
   "source": [
    "arrayList = []\n",
    "\n",
    "for data in training_data:\n",
    "    x = vec.vectorize(data[0], 100)\n",
    "    y = vec.vectorizeLabel(data[1])\n",
    "    arrayList.append((x, y))\n",
    "\n",
    "print(len(arrayList))"
   ]
  },
  {
   "cell_type": "code",
   "execution_count": 26,
   "metadata": {
    "collapsed": false
   },
   "outputs": [
    {
     "data": {
      "text/plain": [
       "(7,)"
      ]
     },
     "execution_count": 26,
     "metadata": {},
     "output_type": "execute_result"
    }
   ],
   "source": [
    "arrayList[0][1].shape"
   ]
  },
  {
   "cell_type": "code",
   "execution_count": null,
   "metadata": {
    "collapsed": true
   },
   "outputs": [],
   "source": []
  }
 ],
 "metadata": {
  "kernelspec": {
   "display_name": "Python 3",
   "language": "python",
   "name": "python3"
  },
  "language_info": {
   "codemirror_mode": {
    "name": "ipython",
    "version": 3
   },
   "file_extension": ".py",
   "mimetype": "text/x-python",
   "name": "python",
   "nbconvert_exporter": "python",
   "pygments_lexer": "ipython3",
   "version": "3.5.2"
  }
 },
 "nbformat": 4,
 "nbformat_minor": 0
}
